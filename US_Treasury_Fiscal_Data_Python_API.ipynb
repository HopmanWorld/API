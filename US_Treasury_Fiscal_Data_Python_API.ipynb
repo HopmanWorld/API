{
  "nbformat": 4,
  "nbformat_minor": 0,
  "metadata": {
    "colab": {
      "name": "US Treasury Fiscal Data Python API.ipynb",
      "provenance": [],
      "authorship_tag": "ABX9TyO8WRoFikZ83hMDoT1l1afI",
      "include_colab_link": true
    },
    "kernelspec": {
      "name": "python3",
      "display_name": "Python 3"
    },
    "language_info": {
      "name": "python"
    }
  },
  "cells": [
    {
      "cell_type": "markdown",
      "metadata": {
        "id": "view-in-github",
        "colab_type": "text"
      },
      "source": [
        "<a href=\"https://colab.research.google.com/github/HopmanWorld/API/blob/main/US_Treasury_Fiscal_Data_Python_API.ipynb\" target=\"_parent\"><img src=\"https://colab.research.google.com/assets/colab-badge.svg\" alt=\"Open In Colab\"/></a>"
      ]
    },
    {
      "cell_type": "code",
      "execution_count": 1,
      "metadata": {
        "id": "MZg_9cjWJHWo"
      },
      "outputs": [],
      "source": [
        "import requests\n",
        "import pandas as pd"
      ]
    },
    {
      "cell_type": "code",
      "source": [
        "endpoint = '/v2/accounting/od/avg_interest_rates'\n",
        "api_url = f'https://api.fiscaldata.treasury.gov/services/api/fiscal_service{endpoint}'"
      ],
      "metadata": {
        "id": "NgHLhRtUJ5Oi"
      },
      "execution_count": 2,
      "outputs": []
    },
    {
      "cell_type": "code",
      "source": [
        "data = requests.get(api_url).json"
      ],
      "metadata": {
        "id": "osueGlOrK4HT"
      },
      "execution_count": 3,
      "outputs": []
    },
    {
      "cell_type": "code",
      "source": [
        "api_url_2 = f'https://api.fiscaldata.treasury.gov/services/api/fiscal_service{endpoint}?fields=country_currency_desc,exchange_rate, record_date&filter=record_date:gte:2021-01-01'"
      ],
      "metadata": {
        "id": "oQhl639uLfO5"
      },
      "execution_count": 11,
      "outputs": []
    },
    {
      "cell_type": "code",
      "source": [
        "data2 = requests.get(api_url_2).json"
      ],
      "metadata": {
        "id": "HcGLXLwEMEwj"
      },
      "execution_count": 12,
      "outputs": []
    },
    {
      "cell_type": "code",
      "source": [
        "pd.DataFrame(data2[data2])"
      ],
      "metadata": {
        "id": "rXqxxRi90AWt"
      },
      "execution_count": null,
      "outputs": []
    }
  ]
}